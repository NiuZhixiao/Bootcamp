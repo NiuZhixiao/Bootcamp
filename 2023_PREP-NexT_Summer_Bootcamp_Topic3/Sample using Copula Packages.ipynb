{
 "cells": [
  {
   "cell_type": "code",
   "execution_count": null,
   "id": "2c6024fc",
   "metadata": {},
   "outputs": [],
   "source": [
    "# Sampling cdf based on Gumbel Copula using package\n",
    "\n",
    "gumbel_syn = gumbel.sample(400)\n",
    "cdf1_sample = gumbel_syn[:, 0]\n",
    "cdf2_sample = gumbel_syn[:, 1]\n",
    "x1_sample = np.zeros([400])\n",
    "x2_sample = np.zeros([400])\n",
    "\n",
    "# Calculating corresponding data points from cdf based on Newton-Raphson Method\n",
    "\n",
    "for i in range(len(cdf1_sample)):\n",
    "    \n",
    "    x10 = 15\n",
    "    x20 = -15\n",
    "    tol = 1e-15\n",
    "    x1_sample[i] = x10\n",
    "    x2_sample[i] = x20\n",
    "    \n",
    "    for j in range(100):\n",
    "        if abs(stats.gamma.cdf(x1_sample[i]-loc1, a = alpha1, scale = beta1) - cdf1_sample[i]) < tol:\n",
    "            break\n",
    "        else:\n",
    "            x1_sample[i] = x1_sample[i] - (stats.gamma.cdf(x1_sample[i]-loc1, a = alpha1, scale = beta1) - cdf1_sample[i]) \\\n",
    "                            / (stats.gamma.pdf(x1_sample[i]-loc1, a = alpha1, scale = beta1))\n",
    "    for j in range(100):\n",
    "        if abs(stats.gamma.cdf(x2_sample[i]-loc2, a = alpha2, scale = beta2) - cdf2_sample[i]) < tol:\n",
    "            break\n",
    "        else:\n",
    "            x2_sample[i] = x2_sample[i] - (stats.gamma.cdf(x2_sample[i]-loc2, a = alpha2, scale = beta2) - cdf2_sample[i]) \\\n",
    "                            / (stats.gamma.pdf(x2_sample[i]-loc2, a = alpha2, scale = beta2))"
   ]
  },
  {
   "cell_type": "code",
   "execution_count": null,
   "id": "37e6df6b",
   "metadata": {},
   "outputs": [],
   "source": []
  }
 ],
 "metadata": {
  "kernelspec": {
   "display_name": "Python 3 (ipykernel)",
   "language": "python",
   "name": "python3"
  },
  "language_info": {
   "codemirror_mode": {
    "name": "ipython",
    "version": 3
   },
   "file_extension": ".py",
   "mimetype": "text/x-python",
   "name": "python",
   "nbconvert_exporter": "python",
   "pygments_lexer": "ipython3",
   "version": "3.11.3"
  }
 },
 "nbformat": 4,
 "nbformat_minor": 5
}
